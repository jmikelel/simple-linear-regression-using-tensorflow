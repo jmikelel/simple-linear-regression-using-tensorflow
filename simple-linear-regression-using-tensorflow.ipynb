{
 "cells": [
  {
   "cell_type": "markdown",
   "metadata": {},
   "source": [
    "# TAREA 2 IA II JOSÉ MIGUEL GONZÁLEZ ZARAGOZA 631145 IRSI 7MO SEMESTRE"
   ]
  },
  {
   "cell_type": "code",
   "execution_count": 1,
   "metadata": {},
   "outputs": [
    {
     "data": {
      "text/plain": [
       "'\\nAssignment 02 (Programming activity): Using the previous Python code for\\nsimple linear regression using tensorflow, create a Jupyter Notebook and carry\\nout the following:\\n• add a markdown cell to explain what each code cell does\\n• create a remote repository in GitHub. Name it as\\nsimple-linear-regression-using-tensorflow and push your Jupyter\\nNotebook up to GitHub\\n• when finished, also upload your Jupyter Notebook to Blackboard\\n• include the link to your GitHub repository in a txt file and upload this file\\nto Blackboard\\n'"
      ]
     },
     "execution_count": 1,
     "metadata": {},
     "output_type": "execute_result"
    }
   ],
   "source": [
    "\"\"\"\n",
    "AUTHOR:         José Miguel González Zaragoza\n",
    "                631145-IRSI-7MO_SEMESTRE\n",
    "INSTITUTION:    UNIVERSIDAD DE MONTERREY\n",
    "DATE:           08/23/2024\n",
    "INSTRUCTOR:     Dr Andrés Hernández Gutiérrez\n",
    "COURSE:         ARTIFICIAL INTELLIGENCE II\n",
    "\n",
    "\n",
    "Assignment 02 (Programming activity): Using the previous Python code for\n",
    "simple linear regression using tensorflow, create a Jupyter Notebook and carry\n",
    "out the following:\n",
    "• add a markdown cell to explain what each code cell does\n",
    "• create a remote repository in GitHub. Name it as\n",
    "simple-linear-regression-using-tensorflow and push your Jupyter\n",
    "Notebook up to GitHub\n",
    "• when finished, also upload your Jupyter Notebook to Blackboard\n",
    "• include the link to your GitHub repository in a txt file and upload this file\n",
    "to Blackboard\n",
    "\"\"\""
   ]
  },
  {
   "cell_type": "code",
   "execution_count": null,
   "metadata": {},
   "outputs": [],
   "source": []
  }
 ],
 "metadata": {
  "kernelspec": {
   "display_name": "Python 3",
   "language": "python",
   "name": "python3"
  },
  "language_info": {
   "codemirror_mode": {
    "name": "ipython",
    "version": 3
   },
   "file_extension": ".py",
   "mimetype": "text/x-python",
   "name": "python",
   "nbconvert_exporter": "python",
   "pygments_lexer": "ipython3",
   "version": "3.11.4"
  }
 },
 "nbformat": 4,
 "nbformat_minor": 2
}
